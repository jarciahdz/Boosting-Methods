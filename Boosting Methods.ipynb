{
 "cells": [
  {
   "cell_type": "markdown",
   "metadata": {},
   "source": [
    "# Resumen Integrado de Boosting y AdaBoost\r\n",
    "\r\n",
    "Boosting es un enfoque de **aprendizaje de máquina** que crea un clasificador fuerte a partir de una combinación de clasificadores débiles. Se basa en la idea de mejorar iterativamente clasificadores que son solo ligeramente mejores que adivinar al azar. El algoritmo **AdaBoost.M1**, introducido por Freund y Schapire, es un enfoque particular de boosting diseñado para problemas de clasificación binaria.\r\n",
    "\r\n",
    "AdaBoost se diferencia de otras técnicas de ensamble como el bagging en que ajusta adaptativamente los clasificadores débiles en secuencia, enfocándose más en los casos que fueron clasificados incorrectamente en iteraciones anteriores. El objetivo es que cada nuevo clasificador se concentre en los errores del anterior, asignando más peso a las observaciones más difíciles de clasificar.\r\n",
    "\r\n",
    "La eficacia del AdaBoost se ilustra en el ejemplo proporcionado, donde incluso un clasificador muy simple, como un \"stump\", puede reducir significativamente su tasa de error a través de iteraciones de boosting. La grdel libro indica quea cómo, a medida que aumenta el número de iteraciones de boosting, la tasa de error de prueba disminuye, lo que indica una mejora en la precisión del clasificador combinado.\r\n",
    "\r\n",
    "## Explicación Detallada del Algoritmo 10.1 AdaBoost.M1\r\n",
    "\r\n",
    "El Algoritmo 10.1 **AdaBoost.M1** funciona de la siguiente manera:\r\n",
    "\r\n",
    "1. **Inicialización**: Seeasigna unlp$so inicia$ `w_i = 1/N` a cada una de las N observaciones en el conjunto de entrenamiento, lo que significa que inicialmente todas las observaciones tienen la misma importancia.\r\n",
    "\r\n",
    "2. **Iteraciones de Boosting**: Se realizan M iteraciones para construir M clasificadores débiles. Cada iteración consiste en los siguientes pasos:\r\n",
    "   - **Ajuste del Clasificador**: Se entrena u$ clasi$icador `G_m(x)` usando los pesos actuales de las observaciones.\r\n",
    "   - **Cálculo del Error**: Se calcula la tasa de error ponderada `err_m`, que es la suma de los pesos de las observaciones mal clasificadas dividida por la suma de todos los pesos.\r\n",
    "   - **Determinación del Peso del Clasificador**: Se calcula el peso `α_m` del clasificador basado en su tasa de error; clasificadores con errores menores reciben un mayor peso.\r\n",
    "   - **Actualización de Pesos de Observaciones**: Se actualizan los pesos de las observaciones; los pesos de las observaciones mal clasificadas son aumentados, lo que les dará más importancia en la siguiente iteración del entrenamiento.\r\n",
    "\r\n",
    "3. **Construcción del Clasificador Final**: El clasificador combinado final `G(x)` se obtiene tomando el signo de la suma ponderada de las predicciones de todos los clasificadores débiles con sus respectivos pesos `α_m`. Esto significa que cada clasificador vota para la clasificación final, y el voto de cada uno está ponderado por su eficacia percibida.\r\n",
    "\r\n",
    "El algoritmo asegura que los clasificadores sucesivos se enfoquen más en los casos que fueron difíciles de clasificar correctamente en pasos anteriores, lo que lleva a una mejora en la precisión del modelo general. Esta técnica ha demostrado ser particularmente eficaz cuando se utilizan árboles de decisión como clasificadores base, a menudo resultando en mejoras ds en la precisión.\r\n",
    "\n",
    "\n",
    "\n"
   ]
  },
  {
   "cell_type": "markdown",
   "metadata": {},
   "source": [
    "# Usando funciones propias."
   ]
  },
  {
   "cell_type": "code",
   "execution_count": 12,
   "metadata": {},
   "outputs": [],
   "source": [
    "import numpy as np\n",
    "from sklearn.tree import DecisionTreeClassifier\n",
    "\n",
    "# Definimos una función para simular un clasificador débil, en este caso un \"stump\".\n",
    "def weak_classifier(X, y, weights):\n",
    "    # Se crea un objeto de árbol de decisión con profundidad máxima de 1, conocido como \"stump\".\n",
    "    stump = DecisionTreeClassifier(max_depth=1, random_state=42)\n",
    "    # Se entrena el \"stump\" con los datos y pesos actuales de las muestras.\n",
    "    stump.fit(X, y, sample_weight=weights)\n",
    "    # Se generan predicciones para las muestras usando el \"stump\".\n",
    "    predictions = stump.predict(X)\n",
    "    # Obtenemos el índice de la característica y el umbral utilizados por el \"stump\".\n",
    "    # Estos no se utilizan en el AdaBoost, pero se devuelven por consistencia.\n",
    "    feature_index = stump.tree_.feature[0]\n",
    "    threshold = stump.tree_.threshold[0]\n",
    "    return predictions, feature_index, threshold\n",
    "\n",
    "# Función para calcular el error ponderado de las predicciones.\n",
    "def compute_error(y, predictions, weights):\n",
    "    # Se calcula el error como la suma ponderada de las clasificaciones incorrectas.\n",
    "    return weights.dot(y != predictions) / weights.sum()\n",
    "\n",
    "# Función para calcular el peso del clasificador en la combinación final.\n",
    "def compute_alpha(error):\n",
    "    # Se utiliza la fórmula de AdaBoost para calcular alpha a partir del error.\n",
    "    return np.log((1 - error) / error)\n",
    "\n",
    "# Función para actualizar los pesos de las muestras.\n",
    "def update_weights(weights, alpha, y, predictions):\n",
    "    # Se aumentan los pesos de las muestras mal clasificadas y se disminuyen los de las bien clasificadas.\n",
    "    return weights * np.exp(alpha * (y != predictions))\n",
    "\n",
    "# Implementación del algoritmo AdaBoost.M1.\n",
    "def ada_boost_m1(X, y, M):\n",
    "    N = X.shape[0]\n",
    "    # Inicializamos los pesos de todas las muestras igualmente.\n",
    "    weights = np.ones(N) / N\n",
    "    # Listas para almacenar los clasificadores, sus pesos y los errores.\n",
    "    classifiers = []\n",
    "    alphas = []\n",
    "    errors = []\n",
    "\n",
    "    # Bucle principal de AdaBoost.\n",
    "    for m in range(M):\n",
    "        # Se entrena un clasificador débil y se obtiene su error.\n",
    "        predictions, feature_index, threshold = weak_classifier(X, y, weights)\n",
    "        err_m = compute_error(y, predictions, weights)\n",
    "        # Se almacena el error de esta iteración.\n",
    "        errors.append(err_m)\n",
    "        # Se calcula el peso del clasificador basado en el error.\n",
    "        alpha_m = compute_alpha(err_m)\n",
    "        # Se actualizan los pesos de las muestras para la siguiente iteración.\n",
    "        weights = update_weights(weights, alpha_m, y, predictions)\n",
    "        # Se almacenan el clasificador y su peso.\n",
    "        classifiers.append((feature_index, threshold))\n",
    "        alphas.append(alpha_m)\n",
    "\n",
    "    # Se define la función de clasificación final combinada.\n",
    "    def G(x):\n",
    "        final_prediction = np.zeros(x.shape[0])\n",
    "        # Se suma el efecto de cada clasificador débil ponderado por su alfa.\n",
    "        for alpha, (feature_index, threshold) in zip(alphas, classifiers):\n",
    "            prediction = np.ones(x.shape[0])\n",
    "            prediction[x[:, feature_index] < threshold] = -1\n",
    "            final_prediction += alpha * prediction\n",
    "        # Se devuelve la predicción combinada.\n",
    "        return np.sign(final_prediction)\n",
    "\n",
    "    # La función devuelve el clasificador combinado y la lista de errores.\n",
    "    return G, errors"
   ]
  },
  {
   "cell_type": "code",
   "execution_count": 21,
   "metadata": {},
   "outputs": [
    {
     "data": {
      "text/plain": [
       "(0.4935, 0.5065)"
      ]
     },
     "execution_count": 21,
     "metadata": {},
     "output_type": "execute_result"
    }
   ],
   "source": [
    "from scipy.stats import chi2\n",
    "\n",
    "# Reestablecemos la semilla para reproducibilidad\n",
    "np.random.seed(42)\n",
    "\n",
    "n_samples = 2000  # Número de muestras de entrenamiento\n",
    "n_test_samples = 10000  # Número de muestras de prueba\n",
    "n_features = 10   # Número de características (X1,...,X10)\n",
    "\n",
    "# Generamos los datos simulados: X1,...,X10 independientes y siguiendo una distribución gaussiana estándar\n",
    "X_simulated = np.random.randn(n_samples + n_test_samples, n_features)\n",
    "\n",
    "# Calculamos la suma de cuadrados de las características para cada muestra\n",
    "sum_of_squares = np.sum(X_simulated**2, axis=1)\n",
    "\n",
    "# Definimos el umbral usando la mediana de una variable aleatoria chi-cuadrado con 10 grados de libertad\n",
    "chi2_threshold = chi2.ppf(0.5, df=n_features)\n",
    "\n",
    "# Creamos la variable objetivo Y basada en el umbral del chi-cuadrado\n",
    "Y_simulated = np.where(sum_of_squares > chi2_threshold, 1, -1)\n",
    "\n",
    "# Dividimos los datos en conjuntos de entrenamiento y prueba\n",
    "X_train_simulated, X_test_simulated = X_simulated[:n_samples], X_simulated[n_samples:]\n",
    "Y_train_simulated, Y_test_simulated = Y_simulated[:n_samples], Y_simulated[n_samples:]\n",
    "\n",
    "# Verificamos la distribución de la variable objetivo en el conjunto de entrenamiento\n",
    "np.mean(Y_train_simulated == 1), np.mean(Y_train_simulated == -1)"
   ]
  },
  {
   "cell_type": "markdown",
   "metadata": {},
   "source": [
    "Hemos creado características independientes \\(X_1, \\ldots, X_{10}\\) que siguen una distribución gaussiana estándar. Luego definimos una variable objetivo \\(Y\\) tal que \\(Y = 1\\) si la suma de los cuadrados de las características excede el umbral definido por la mediana de una variable aleatoria chi-cuadrado con 10 grados de libertad, y \\(Y = -1\\) de lo contrario.\r\n",
    "\r\n",
    "El conjunto de datos de entrenamiento tiene una distribución casi equilibrada de las clases con un \\(49.35\\%\\) de las muestras pertenecientes a la clase 1 y un \\(50.65\\%\\) a la clase -co.\r\n"
   ]
  },
  {
   "cell_type": "code",
   "execution_count": 22,
   "metadata": {},
   "outputs": [
    {
     "data": {
      "text/plain": [
       "(0.4429, 0.4848771903893841)"
      ]
     },
     "execution_count": 22,
     "metadata": {},
     "output_type": "execute_result"
    }
   ],
   "source": [
    "M = 400\n",
    "\n",
    "# Reentrenamos AdaBoost.M1 usando el nuevo clasificador débil\n",
    "G, errors = ada_boost_m1(X_train_simulated, Y_train_simulated, M)\n",
    "\n",
    "# Evaluamos el rendimiento en el conjunto de prueba con el nuevo clasificador\n",
    "final_predictions = G(X_test_simulated)\n",
    "test_error = np.mean(final_predictions != Y_test_simulated)\n",
    "\n",
    "test_error, errors[-1]  # Mostrar el error de prueba final y el último error de entrenamiento"
   ]
  },
  {
   "cell_type": "markdown",
   "metadata": {},
   "source": [
    "# Utilizando librerias."
   ]
  },
  {
   "cell_type": "code",
   "execution_count": 19,
   "metadata": {},
   "outputs": [
    {
     "data": {
      "text/plain": [
       "([0.4254,\n",
       "  0.35040000000000004,\n",
       "  0.29710000000000003,\n",
       "  0.28490000000000004,\n",
       "  0.27070000000000005,\n",
       "  0.25439999999999996,\n",
       "  0.26170000000000004,\n",
       "  0.26249999999999996,\n",
       "  0.22699999999999998,\n",
       "  0.21860000000000002],\n",
       " [0.04749999999999999,\n",
       "  0.04749999999999999,\n",
       "  0.04710000000000003,\n",
       "  0.046699999999999964,\n",
       "  0.046699999999999964,\n",
       "  0.04710000000000003,\n",
       "  0.046599999999999975,\n",
       "  0.0464,\n",
       "  0.04590000000000005,\n",
       "  0.046499999999999986])"
      ]
     },
     "execution_count": 19,
     "metadata": {},
     "output_type": "execute_result"
    }
   ],
   "source": [
    "from sklearn.datasets import make_classification\n",
    "from sklearn.model_selection import train_test_split\n",
    "from sklearn.ensemble import AdaBoostClassifier\n",
    "from sklearn.tree import DecisionTreeClassifier\n",
    "from sklearn.metrics import accuracy_score\n",
    "import numpy as np\n",
    "\n",
    "# Parámetros para la simulación\n",
    "n_samples = 2000  # Número de muestras de entrenamiento\n",
    "n_features = 10   # Número de características (X1,...,X10)\n",
    "n_test_samples = 10000  # Número de muestras de prueba\n",
    "\n",
    "# Generar datos simulados\n",
    "X, Y = make_classification(n_samples=n_samples + n_test_samples, n_features=n_features, \n",
    "                           n_informative=n_features, n_redundant=0, \n",
    "                           n_clusters_per_class=1, flip_y=0, random_state=42)\n",
    "\n",
    "# Definir la variable objetivo Y usando la regla dada\n",
    "chi2_threshold = np.percentile(np.sum(X**2, axis=1), 50)\n",
    "Y = np.where(np.sum(X**2, axis=1) > chi2_threshold, 1, -1)\n",
    "\n",
    "# Dividir los datos en entrenamiento y prueba\n",
    "X_train, X_test, Y_train, Y_test = train_test_split(X, Y, test_size=n_test_samples, random_state=42)\n",
    "\n",
    "# Inicializar el clasificador AdaBoost con un \"stump\" como clasificador base\n",
    "stump = DecisionTreeClassifier(max_depth=1, random_state=42) # Un \"stump\" es un árbol de decisión de profundidad 1\n",
    "ada_clf = AdaBoostClassifier(estimator=stump, n_estimators=400, random_state=42)\n",
    "\n",
    "\n",
    "# Entrenar el clasificador AdaBoost\n",
    "ada_clf.fit(X_train, Y_train)\n",
    "\n",
    "# Calcular la precisión en el conjunto de prueba después de cada iteración de boosting\n",
    "test_errors = []\n",
    "\n",
    "for test_predict in ada_clf.staged_predict(X_test):\n",
    "    test_errors.append(1 - accuracy_score(Y_test, test_predict))\n",
    "\n",
    "# Mostrar los primeros y últimos 10 errores de prueba\n",
    "test_errors[:10], test_errors[-10:]"
   ]
  },
  {
   "cell_type": "code",
   "execution_count": 23,
   "metadata": {},
   "outputs": [
    {
     "data": {
      "image/png": "[encoded data removed]",
      "text/plain": [
       "<Figure size 1000x600 with 1 Axes>"
      ]
     },
     "metadata": {},
     "output_type": "display_data"
    }
   ],
   "source": [
    "import matplotlib.pyplot as plt\n",
    "\n",
    "# Crear el plot\n",
    "plt.figure(figsize=(10, 6))\n",
    "plt.plot(test_errors, marker='o', linestyle='-', color='blue')\n",
    "plt.title('Error de Prueba en cada Iteración de AdaBoost')\n",
    "plt.xlabel('Número de Iteración')\n",
    "plt.ylabel('Error de Prueba')\n",
    "plt.grid(True)\n",
    "plt.show()"
   ]
  }
 ],
 "metadata": {
  "kernelspec": {
   "display_name": "Python (env_tesis)",
   "language": "python",
   "name": "myenv"
  },
  "language_info": {
   "codemirror_mode": {
    "name": "ipython",
    "version": 3
   },
   "file_extension": ".py",
   "mimetype": "text/x-python",
   "name": "python",
   "nbconvert_exporter": "python",
   "pygments_lexer": "ipython3",
   "version": "3.11.3"
  }
 },
 "nbformat": 4,
 "nbformat_minor": 4
}
